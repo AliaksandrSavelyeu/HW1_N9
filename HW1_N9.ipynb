{
  "nbformat": 4,
  "nbformat_minor": 0,
  "metadata": {
    "colab": {
      "provenance": []
    },
    "kernelspec": {
      "name": "python3",
      "display_name": "Python 3"
    },
    "language_info": {
      "name": "python"
    }
  },
  "cells": [
    {
      "cell_type": "code",
      "execution_count": null,
      "metadata": {
        "id": "6q8cOyhw2swQ"
      },
      "outputs": [],
      "source": [
        "l = input(\"Введите строку: \")\n",
        "print(l[::-1])"
      ]
    },
    {
      "cell_type": "markdown",
      "source": [
        "Или необходимо встроить в функцию это выражение в соответствии с заданием"
      ],
      "metadata": {
        "id": "zV2vYv1837E0"
      }
    },
    {
      "cell_type": "code",
      "source": [
        "def reverse(l):\n",
        "    return l[::-1]\n",
        "print(reverse(l = input(\"Введите строку: \")))"
      ],
      "metadata": {
        "id": "w_gi_b1e4RZT"
      },
      "execution_count": null,
      "outputs": []
    },
    {
      "cell_type": "markdown",
      "source": [],
      "metadata": {
        "id": "HtGixgcO2z5e"
      }
    },
    {
      "cell_type": "markdown",
      "source": [
        "Сложность алгоритма в худшем случае O(N)\n"
      ],
      "metadata": {
        "id": "J6FNKDDJ8Ejs"
      }
    }
  ]
}